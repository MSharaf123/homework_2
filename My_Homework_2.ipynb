{
 "cells": [
  {
   "cell_type": "markdown",
   "metadata": {},
   "source": [
    "# Homework 2\n"
   ]
  },
  {
   "cell_type": "markdown",
   "metadata": {},
   "source": [
    "1)Construct a function, which will ask the user to input several numbers separated by commas and will calculate their average. (e.g. if the user inputs 3,5,7 the function must result in 5)"
   ]
  },
  {
   "cell_type": "code",
   "execution_count": 1,
   "metadata": {
    "collapsed": false
   },
   "outputs": [
    {
     "name": "stdout",
     "output_type": "stream",
     "text": [
      "Enter your numbers5,10,15\n",
      "10.0\n"
     ]
    }
   ],
   "source": [
    "numbers=input(\"Enter your numbers\")\n",
    "def average(numbers):\n",
    "    return  float(sum(numbers))/len(numbers)\n",
    "print average(numbers)"
   ]
  },
  {
   "cell_type": "markdown",
   "metadata": {},
   "source": [
    "2)Upgrade the function above to also ask the user the number of occurrences to calculate the average for. (e.g. if the user inputs 1,3,5,7,9 and as the second argument to function inputs 2, the function must result in (7+9)/2 = 8. If the user inputs the same numbers as a first argument, but inputs 3 as the 2nd, then the function must result in (5+7+9)/3=7)"
   ]
  },
  {
   "cell_type": "code",
   "execution_count": 2,
   "metadata": {
    "collapsed": false
   },
   "outputs": [
    {
     "name": "stdout",
     "output_type": "stream",
     "text": [
      "Enter your numbers5,10,15,20,5,2,3\n",
      "enter your argument3\n",
      "3.33333333333\n"
     ]
    }
   ],
   "source": [
    "numbers=input(\"Enter your numbers\")\n",
    "argument=input(\"enter your argument\")\n",
    "def average(numbers):\n",
    "    return  float(sum(numbers[-(argument):]))/float(int(argument))\n",
    "print average(numbers)"
   ]
  },
  {
   "cell_type": "markdown",
   "metadata": {},
   "source": [
    "3)Construct a function, which will generate a random number between 1 and 100 (both included). If this number is between 50 and 100 (not included) the function returns \"Win\", if it is between 1 and 50 (both included) the function returns \"Loss\" and if it is exactly 100 then the function returns \"Draw\". (Hint: to generate a random number, one should first import a package called random (i.e. import random) and then use the function randint from there (e.g. random.randint(x,y), where x=1 and y=100 in our case)"
   ]
  },
  {
   "cell_type": "code",
   "execution_count": 3,
   "metadata": {
    "collapsed": true
   },
   "outputs": [],
   "source": [
    "import random"
   ]
  },
  {
   "cell_type": "code",
   "execution_count": 6,
   "metadata": {
    "collapsed": false
   },
   "outputs": [
    {
     "name": "stdout",
     "output_type": "stream",
     "text": [
      "Win\n",
      "81\n"
     ]
    }
   ],
   "source": [
    "spinner=random.randint(1,100)\n",
    "def spin(spinner):\n",
    "    if spinner>0 and spinner<51:\n",
    "        return \"Loss\"\n",
    "    elif spinner>50 and spinner<100:\n",
    "        return \"Win\"\n",
    "    elif spinner==100:\n",
    "        return \"Draw\"\n",
    "print spin(spinner)\n",
    "print(spinner)"
   ]
  },
  {
   "cell_type": "markdown",
   "metadata": {},
   "source": [
    "4)Create a list of 3 stocks (choose whatever stocks you want, e.g. [\"IBM\",\"AAPL\",\"MSFT\"]). Create a for loop that will iterate over the list, get the data of relevant stock and print the first 7 rows of the data."
   ]
  },
  {
   "cell_type": "code",
   "execution_count": 44,
   "metadata": {
    "collapsed": true
   },
   "outputs": [],
   "source": [
    "import pandas_datareader.data as web"
   ]
  },
  {
   "cell_type": "code",
   "execution_count": 47,
   "metadata": {
    "collapsed": false
   },
   "outputs": [],
   "source": [
    "stock_list=[\"AMZN\",\"AAPL\",\"TSLA\"]"
   ]
  },
  {
   "cell_type": "code",
   "execution_count": 48,
   "metadata": {
    "collapsed": false
   },
   "outputs": [
    {
     "data": {
      "text/plain": [
       "list"
      ]
     },
     "execution_count": 48,
     "metadata": {},
     "output_type": "execute_result"
    }
   ],
   "source": [
    "type(stock_list)"
   ]
  },
  {
   "cell_type": "code",
   "execution_count": 49,
   "metadata": {
    "collapsed": false
   },
   "outputs": [
    {
     "name": "stdout",
     "output_type": "stream",
     "text": [
      "              Open    High     Low   Close    Volume\n",
      "Date                                                \n",
      "2010-01-04  136.25  136.61  133.14  133.90   7600543\n",
      "2010-01-05  133.43  135.48  131.81  134.69   8856456\n",
      "2010-01-06  134.60  134.73  131.65  132.25   7180977\n",
      "2010-01-07  132.01  132.32  128.80  130.00  11030124\n",
      "2010-01-08  130.56  133.68  129.03  133.52   9833829\n",
      "2010-01-11  132.62  132.80  129.21  130.31   8786668\n",
      "2010-01-12  128.99  129.82  126.55  127.35   9098190\n",
      "             Open   High    Low  Close     Volume\n",
      "Date                                             \n",
      "2010-01-04  30.49  30.64  30.34  30.57  123432050\n",
      "2010-01-05  30.66  30.80  30.46  30.63  150476004\n",
      "2010-01-06  30.63  30.75  30.11  30.14  138039594\n",
      "2010-01-07  30.25  30.29  29.86  30.08  119282324\n",
      "2010-01-08  30.04  30.29  29.87  30.28  111969081\n",
      "2010-01-11  30.40  30.43  29.78  30.02  115557365\n",
      "2010-01-12  29.88  29.97  29.49  29.67  148614774\n",
      "             Open   High    Low  Close    Volume\n",
      "Date                                            \n",
      "2010-06-29  19.00  25.00  17.54  23.89  18783276\n",
      "2010-06-30  25.79  30.42  23.30  23.83  17194394\n",
      "2010-07-01  25.00  25.92  20.27  21.96   8229863\n",
      "2010-07-02  23.00  23.10  18.71  19.20   5141807\n",
      "2010-07-06  20.00  20.00  15.83  16.11   6879296\n",
      "2010-07-07  16.40  16.63  14.98  15.80   6924914\n",
      "2010-07-08  16.14  17.52  15.57  17.46   7719539\n"
     ]
    }
   ],
   "source": [
    "for stock in stock_list:\n",
    "    data=web.DataReader(stock,\"google\")\n",
    "    print(data.head(7))"
   ]
  },
  {
   "cell_type": "markdown",
   "metadata": {},
   "source": [
    "5)Upgrade the for loop above.  Now, instead of printing the data, the for loop should iterate over the list, get the data and plot it."
   ]
  },
  {
   "cell_type": "code",
   "execution_count": 50,
   "metadata": {
    "collapsed": true
   },
   "outputs": [],
   "source": [
    "import matplotlib.pyplot as plt"
   ]
  },
  {
   "cell_type": "code",
   "execution_count": 58,
   "metadata": {
    "collapsed": false
   },
   "outputs": [
    {
     "data": {
      "image/png": "[encoded data removed]",
      "text/plain": [
       "<matplotlib.figure.Figure at 0xb3dc2d0>"
      ]
     },
     "metadata": {},
     "output_type": "display_data"
    },
    {
     "name": "stdout",
     "output_type": "stream",
     "text": [
      "None\n"
     ]
    },
    {
     "data": {
      "image/png": "[encoded data removed]",
      "text/plain": [
       "<matplotlib.figure.Figure at 0x9abca30>"
      ]
     },
     "metadata": {},
     "output_type": "display_data"
    },
    {
     "name": "stdout",
     "output_type": "stream",
     "text": [
      "None\n"
     ]
    },
    {
     "data": {
      "image/png": "[encoded data removed]",
      "text/plain": [
       "<matplotlib.figure.Figure at 0x9b510b0>"
      ]
     },
     "metadata": {},
     "output_type": "display_data"
    },
    {
     "name": "stdout",
     "output_type": "stream",
     "text": [
      "None\n"
     ]
    }
   ],
   "source": [
    "for stock in stock_list:\n",
    "    data=plt.plot(web.DataReader(stock,\"google\")[\"Open\"])\n",
    "    print(plt.show())"
   ]
  },
  {
   "cell_type": "code",
   "execution_count": null,
   "metadata": {
    "collapsed": true
   },
   "outputs": [],
   "source": []
  }
 ],
 "metadata": {
  "kernelspec": {
   "display_name": "Python 2",
   "language": "python",
   "name": "python2"
  },
  "language_info": {
   "codemirror_mode": {
    "name": "ipython",
    "version": 2
   },
   "file_extension": ".py",
   "mimetype": "text/x-python",
   "name": "python",
   "nbconvert_exporter": "python",
   "pygments_lexer": "ipython2",
   "version": "2.7.13"
  }
 },
 "nbformat": 4,
 "nbformat_minor": 2
}
